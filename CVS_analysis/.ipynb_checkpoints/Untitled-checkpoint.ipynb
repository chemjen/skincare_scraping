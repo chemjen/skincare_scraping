{
 "cells": [
  {
   "cell_type": "code",
   "execution_count": 1,
   "metadata": {},
   "outputs": [],
   "source": [
    "df = pd.read_csv('cvs_products_cleaned.csv')"
   ]
  },
  {
   "cell_type": "code",
   "execution_count": 2,
   "metadata": {},
   "outputs": [
    {
     "data": {
      "text/plain": [
       "Index(['ave_rating', 'brand', 'details', 'family', 'genus', 'name',\n",
       "       'num_reviews', 'ounces', 'pounds', 'price', 'species', 'url',\n",
       "       'ounces_from_lbs', 'lbs_from_oz', 'price_per_oz'],\n",
       "      dtype='object')"
      ]
     },
     "execution_count": 2,
     "metadata": {},
     "output_type": "execute_result"
    }
   ],
   "source": [
    "df.columns"
   ]
  },
  {
   "cell_type": "code",
   "execution_count": 3,
   "metadata": {},
   "outputs": [
    {
     "name": "stdout",
     "output_type": "stream",
     "text": [
      "['beauty' 'skin-care' 'makeup' 'baby-child' 'hair-care']\n",
      "['hair-care' 'face' 'skin-care' 'bath-body' 'perfume-cologne' 'body'\n",
      " 'nails' 'bath-skin-care' 'beauty-tools-accessories' 'hands-feet' 'eyes'\n",
      " 'makeup' 'lips' 'k-beauty' 'health' 'korean-makeup' 'shampoo-conditioner'\n",
      " 'treatments' 'styling']\n",
      "['shampoo-conditioner' 'acne' 'sun-tanning' 'hand-sanitizer'\n",
      " 'skin-care-tools' 'perfume-for-women' 'body-wash'\n",
      " 'body-lotion-oils-sprays' 'moisturizers' 'lotions-creams'\n",
      " 'firming-repair' 'bath-salts-soaks' 'face' 'treatments-removers'\n",
      " 'cologne-for-men' 'creams-ointments' 'styling' 'nail-tools'\n",
      " 'bath-accessories' 'soap' 'scrubs-treatments' 'hand-cream' 'treatments'\n",
      " 'cotton' 'sunscreen' 'makeup-removers-wipes' 'foot-cream'\n",
      " 'face-wash-cleansers' 'eczema' 'face-masks' 'creams-moisturizers' 'lips'\n",
      " 'toners' 'exfoliators' 'nail-polish' 'eye-treatments' 'baby-oil'\n",
      " 'hair-color' 'concealers-correctors' 'foundation' 'mirrors' 'eyeliner'\n",
      " 'eyeshadow-palettes' 'false-lashes' 'mascara' 'eyebrows'\n",
      " 'eye-primer-base' 'nail-art-design' 'top-base-coat' 'bb-cc-creams'\n",
      " 'primer' 'setting-spray-powder' 'blush-bronzers' 'lipstick'\n",
      " 'makeup-brushes-applicators' 'tools-tweezers' 'anti-aging'\n",
      " 'serums-treatments' 'hair-accessories' 'contouring-highlighting'\n",
      " 'lip-tints-stains' 'lip-liner' 'lip-gloss-plumpers' 'lip-balm-treatments'\n",
      " 'hair-tools-appliances' 'micellar-water' 'brow-tools-tweezers'\n",
      " 'kits-palettes' 'eyes' 'makeup-remover' 'hair-brushes-combs' 'bath-wash'\n",
      " 'lotions' 'hand-foot-care' 'bags-cases' 'body' 'creams-serums'\n",
      " 'cleansers-toners' 'makeup' 'powders' 'first-aid'\n",
      " 'trial-travel-size-storage-containers' 'trial-travel-size-hair-care'\n",
      " 'mens-hair-care' 'dry-shampoo' 'textured-hair' 'shampoo' 'hair-masks'\n",
      " 'conditioner' 'hair-mousse-creams' 'trial-travel-size-facial-skin-care'\n",
      " 'hair-gel-wax-pomades' 'hair-spray' 'leave-in-treatments'\n",
      " 'heat-protectants' 'hair-oils-serums' 'scalp-treatments' 'hands-feet']\n"
     ]
    }
   ],
   "source": [
    "print(df.family.unique())\n",
    "print(df.genus.unique())\n",
    "print(df.species.unique())\n"
   ]
  },
  {
   "cell_type": "code",
   "execution_count": 9,
   "metadata": {},
   "outputs": [],
   "source": [
    "haircare = df.loc[(df['family'] == 'hair-care') | (df['genus'].str.contains('hair')) \\\n",
    "                  | (df['species'].str.contains('hair'))]\n",
    "makeup = df.loc[(df['family'] == 'makeup') | (df['genus'].str.contains('makeup')) | \\\n",
    "                                              (df['species'].str.contains('makeup'))]\n",
    "skincare = df.loc[(df['family'] == 'skin-care') | (df['genus'].str.contains('skin-care')) \\\n",
    "                 | (df['species'].str.contains('skin-care'))]\n",
    "fragrance = df.loc[]\n",
    "men = df.loc[]\n",
    "bath_body = df.loc[]"
   ]
  },
  {
   "cell_type": "code",
   "execution_count": null,
   "metadata": {},
   "outputs": [],
   "source": []
  }
 ],
 "metadata": {
  "kernelspec": {
   "display_name": "Python 3",
   "language": "python",
   "name": "python3"
  },
  "language_info": {
   "codemirror_mode": {
    "name": "ipython",
    "version": 3
   },
   "file_extension": ".py",
   "mimetype": "text/x-python",
   "name": "python",
   "nbconvert_exporter": "python",
   "pygments_lexer": "ipython3",
   "version": "3.7.4"
  }
 },
 "nbformat": 4,
 "nbformat_minor": 2
}
